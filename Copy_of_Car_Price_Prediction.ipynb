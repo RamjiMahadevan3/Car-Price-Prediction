{
  "nbformat": 4,
  "nbformat_minor": 0,
  "metadata": {
    "colab": {
      "provenance": [],
      "authorship_tag": "ABX9TyNRuC+AQTHYcgswHX8ESfGv",
      "include_colab_link": true
    },
    "kernelspec": {
      "name": "python3",
      "display_name": "Python 3"
    },
    "language_info": {
      "name": "python"
    }
  },
  "cells": [
    {
      "cell_type": "markdown",
      "metadata": {
        "id": "view-in-github",
        "colab_type": "text"
      },
      "source": [
        "<a href=\"https://colab.research.google.com/github/RamjiMahadevan3/Car-Price-Prediction/blob/main/Copy_of_Car_Price_Prediction.ipynb\" target=\"_parent\"><img src=\"https://colab.research.google.com/assets/colab-badge.svg\" alt=\"Open In Colab\"/></a>"
      ]
    },
    {
      "cell_type": "code",
      "execution_count": null,
      "metadata": {
        "id": "PLlcljE0eJZH"
      },
      "outputs": [],
      "source": [
        "# Step 1: Import Libraries\n",
        "import pandas as pd\n",
        "import numpy as np\n",
        "from sklearn.model_selection import train_test_split\n",
        "from sklearn.preprocessing import StandardScaler, OneHotEncoder\n",
        "from sklearn.compose import ColumnTransformer\n",
        "from sklearn.pipeline import Pipeline\n",
        "from sklearn.linear_model import LinearRegression\n",
        "from sklearn.metrics import mean_squared_error\n",
        "import matplotlib.pyplot as plt\n"
      ]
    },
    {
      "cell_type": "code",
      "source": [
        "# Step 2: Generate Synthetic Dataset\n",
        "data = {\n",
        "    'carbody': np.random.choice(['sedan', 'hatchback', 'wagon', 'convertible', 'hardtop'], 100),\n",
        "    'compressionratio': np.random.uniform(7.0, 12.0, 100),\n",
        "    'curbweight': np.random.uniform(1500, 3000, 100),\n",
        "    'enginesize': np.random.uniform(50, 200, 100),\n",
        "    'horsepower': np.random.uniform(50, 200, 100),\n",
        "    'citympg': np.random.uniform(15, 30, 100),\n",
        "    'highwaympg': np.random.uniform(20, 35, 100),\n",
        "    'doornumber': np.random.choice([2, 4], 100),\n",
        "    'aspiration': np.random.choice(['turbo', 'standard'], 100),\n",
        "    'wheelbase': np.random.uniform(80, 120, 100),\n",
        "    'carlength': np.random.uniform(150, 200, 100),\n",
        "    'carwidth': np.random.uniform(60, 80, 100),\n",
        "    'carheight': np.random.uniform(50, 60, 100),\n",
        "    'boreratio': np.random.uniform(2.0, 4.0, 100),\n",
        "    'stroke': np.random.uniform(2.0, 4.0, 100),\n",
        "    'peakrpm': np.random.uniform(4000, 7000, 100),\n",
        "    'price': np.random.uniform(5000, 30000, 100)\n",
        "}\n",
        "\n",
        "df = pd.DataFrame(data)\n",
        "df.to_csv('CarPrice.csv', index=False)\n"
      ],
      "metadata": {
        "id": "1-LJfKI_fbZH"
      },
      "execution_count": null,
      "outputs": []
    },
    {
      "cell_type": "code",
      "source": [
        "# Step 3: Load and Preprocess Data\n",
        "df = pd.read_csv('CarPrice.csv')\n"
      ],
      "metadata": {
        "id": "67aEjlVzfyxf"
      },
      "execution_count": null,
      "outputs": []
    },
    {
      "cell_type": "code",
      "source": [
        "# Separate features and target\n",
        "X = df.drop('price', axis=1)\n",
        "y = df['price']\n"
      ],
      "metadata": {
        "id": "o3W0Zf7MgdjX"
      },
      "execution_count": null,
      "outputs": []
    },
    {
      "cell_type": "code",
      "source": [
        "# Define categorical and numerical features\n",
        "categorical_features = ['carbody', 'doornumber', 'aspiration']\n",
        "numerical_features = X.columns.difference(categorical_features)\n"
      ],
      "metadata": {
        "id": "9Gm7uBvQggEY"
      },
      "execution_count": null,
      "outputs": []
    },
    {
      "cell_type": "code",
      "source": [
        "# Preprocessing pipeline\n",
        "preprocessor = ColumnTransformer(\n",
        "    transformers=[\n",
        "        ('num', StandardScaler(), numerical_features),\n",
        "        ('cat', OneHotEncoder(), categorical_features)\n",
        "    ])"
      ],
      "metadata": {
        "id": "1o6Fo5ZQgg85"
      },
      "execution_count": null,
      "outputs": []
    },
    {
      "cell_type": "code",
      "source": [
        "# Create the pipeline with preprocessor and model\n",
        "pipeline = Pipeline(steps=[\n",
        "    ('preprocessor', preprocessor),\n",
        "    ('model', LinearRegression())\n",
        "])"
      ],
      "metadata": {
        "id": "yleYU1wPgjqK"
      },
      "execution_count": null,
      "outputs": []
    },
    {
      "cell_type": "code",
      "source": [
        "\n",
        "# Split data into training and testing sets\n",
        "X_train, X_test, y_train, y_test = train_test_split(X, y, test_size=0.2, random_state=42)\n"
      ],
      "metadata": {
        "id": "k5qu4vL0gmTo"
      },
      "execution_count": null,
      "outputs": []
    },
    {
      "cell_type": "code",
      "source": [
        "# Train the model\n",
        "pipeline.fit(X_train, y_train)\n"
      ],
      "metadata": {
        "colab": {
          "base_uri": "https://localhost:8080/",
          "height": 189
        },
        "id": "uX9cNCqzgovS",
        "outputId": "28aa70dc-8ca6-49e0-cc89-8d5410b50e0d"
      },
      "execution_count": null,
      "outputs": [
        {
          "output_type": "execute_result",
          "data": {
            "text/plain": [
              "Pipeline(steps=[('preprocessor',\n",
              "                 ColumnTransformer(transformers=[('num', StandardScaler(),\n",
              "                                                  Index(['boreratio', 'carheight', 'carlength', 'carwidth', 'citympg',\n",
              "       'compressionratio', 'curbweight', 'enginesize', 'highwaympg',\n",
              "       'horsepower', 'peakrpm', 'stroke', 'wheelbase'],\n",
              "      dtype='object')),\n",
              "                                                 ('cat', OneHotEncoder(),\n",
              "                                                  ['carbody', 'doornumber',\n",
              "                                                   'aspiration'])])),\n",
              "                ('model', LinearRegression())])"
            ],
            "text/html": [
              "<style>#sk-container-id-1 {color: black;}#sk-container-id-1 pre{padding: 0;}#sk-container-id-1 div.sk-toggleable {background-color: white;}#sk-container-id-1 label.sk-toggleable__label {cursor: pointer;display: block;width: 100%;margin-bottom: 0;padding: 0.3em;box-sizing: border-box;text-align: center;}#sk-container-id-1 label.sk-toggleable__label-arrow:before {content: \"▸\";float: left;margin-right: 0.25em;color: #696969;}#sk-container-id-1 label.sk-toggleable__label-arrow:hover:before {color: black;}#sk-container-id-1 div.sk-estimator:hover label.sk-toggleable__label-arrow:before {color: black;}#sk-container-id-1 div.sk-toggleable__content {max-height: 0;max-width: 0;overflow: hidden;text-align: left;background-color: #f0f8ff;}#sk-container-id-1 div.sk-toggleable__content pre {margin: 0.2em;color: black;border-radius: 0.25em;background-color: #f0f8ff;}#sk-container-id-1 input.sk-toggleable__control:checked~div.sk-toggleable__content {max-height: 200px;max-width: 100%;overflow: auto;}#sk-container-id-1 input.sk-toggleable__control:checked~label.sk-toggleable__label-arrow:before {content: \"▾\";}#sk-container-id-1 div.sk-estimator input.sk-toggleable__control:checked~label.sk-toggleable__label {background-color: #d4ebff;}#sk-container-id-1 div.sk-label input.sk-toggleable__control:checked~label.sk-toggleable__label {background-color: #d4ebff;}#sk-container-id-1 input.sk-hidden--visually {border: 0;clip: rect(1px 1px 1px 1px);clip: rect(1px, 1px, 1px, 1px);height: 1px;margin: -1px;overflow: hidden;padding: 0;position: absolute;width: 1px;}#sk-container-id-1 div.sk-estimator {font-family: monospace;background-color: #f0f8ff;border: 1px dotted black;border-radius: 0.25em;box-sizing: border-box;margin-bottom: 0.5em;}#sk-container-id-1 div.sk-estimator:hover {background-color: #d4ebff;}#sk-container-id-1 div.sk-parallel-item::after {content: \"\";width: 100%;border-bottom: 1px solid gray;flex-grow: 1;}#sk-container-id-1 div.sk-label:hover label.sk-toggleable__label {background-color: #d4ebff;}#sk-container-id-1 div.sk-serial::before {content: \"\";position: absolute;border-left: 1px solid gray;box-sizing: border-box;top: 0;bottom: 0;left: 50%;z-index: 0;}#sk-container-id-1 div.sk-serial {display: flex;flex-direction: column;align-items: center;background-color: white;padding-right: 0.2em;padding-left: 0.2em;position: relative;}#sk-container-id-1 div.sk-item {position: relative;z-index: 1;}#sk-container-id-1 div.sk-parallel {display: flex;align-items: stretch;justify-content: center;background-color: white;position: relative;}#sk-container-id-1 div.sk-item::before, #sk-container-id-1 div.sk-parallel-item::before {content: \"\";position: absolute;border-left: 1px solid gray;box-sizing: border-box;top: 0;bottom: 0;left: 50%;z-index: -1;}#sk-container-id-1 div.sk-parallel-item {display: flex;flex-direction: column;z-index: 1;position: relative;background-color: white;}#sk-container-id-1 div.sk-parallel-item:first-child::after {align-self: flex-end;width: 50%;}#sk-container-id-1 div.sk-parallel-item:last-child::after {align-self: flex-start;width: 50%;}#sk-container-id-1 div.sk-parallel-item:only-child::after {width: 0;}#sk-container-id-1 div.sk-dashed-wrapped {border: 1px dashed gray;margin: 0 0.4em 0.5em 0.4em;box-sizing: border-box;padding-bottom: 0.4em;background-color: white;}#sk-container-id-1 div.sk-label label {font-family: monospace;font-weight: bold;display: inline-block;line-height: 1.2em;}#sk-container-id-1 div.sk-label-container {text-align: center;}#sk-container-id-1 div.sk-container {/* jupyter's `normalize.less` sets `[hidden] { display: none; }` but bootstrap.min.css set `[hidden] { display: none !important; }` so we also need the `!important` here to be able to override the default hidden behavior on the sphinx rendered scikit-learn.org. See: https://github.com/scikit-learn/scikit-learn/issues/21755 */display: inline-block !important;position: relative;}#sk-container-id-1 div.sk-text-repr-fallback {display: none;}</style><div id=\"sk-container-id-1\" class=\"sk-top-container\"><div class=\"sk-text-repr-fallback\"><pre>Pipeline(steps=[(&#x27;preprocessor&#x27;,\n",
              "                 ColumnTransformer(transformers=[(&#x27;num&#x27;, StandardScaler(),\n",
              "                                                  Index([&#x27;boreratio&#x27;, &#x27;carheight&#x27;, &#x27;carlength&#x27;, &#x27;carwidth&#x27;, &#x27;citympg&#x27;,\n",
              "       &#x27;compressionratio&#x27;, &#x27;curbweight&#x27;, &#x27;enginesize&#x27;, &#x27;highwaympg&#x27;,\n",
              "       &#x27;horsepower&#x27;, &#x27;peakrpm&#x27;, &#x27;stroke&#x27;, &#x27;wheelbase&#x27;],\n",
              "      dtype=&#x27;object&#x27;)),\n",
              "                                                 (&#x27;cat&#x27;, OneHotEncoder(),\n",
              "                                                  [&#x27;carbody&#x27;, &#x27;doornumber&#x27;,\n",
              "                                                   &#x27;aspiration&#x27;])])),\n",
              "                (&#x27;model&#x27;, LinearRegression())])</pre><b>In a Jupyter environment, please rerun this cell to show the HTML representation or trust the notebook. <br />On GitHub, the HTML representation is unable to render, please try loading this page with nbviewer.org.</b></div><div class=\"sk-container\" hidden><div class=\"sk-item sk-dashed-wrapped\"><div class=\"sk-label-container\"><div class=\"sk-label sk-toggleable\"><input class=\"sk-toggleable__control sk-hidden--visually\" id=\"sk-estimator-id-1\" type=\"checkbox\" ><label for=\"sk-estimator-id-1\" class=\"sk-toggleable__label sk-toggleable__label-arrow\">Pipeline</label><div class=\"sk-toggleable__content\"><pre>Pipeline(steps=[(&#x27;preprocessor&#x27;,\n",
              "                 ColumnTransformer(transformers=[(&#x27;num&#x27;, StandardScaler(),\n",
              "                                                  Index([&#x27;boreratio&#x27;, &#x27;carheight&#x27;, &#x27;carlength&#x27;, &#x27;carwidth&#x27;, &#x27;citympg&#x27;,\n",
              "       &#x27;compressionratio&#x27;, &#x27;curbweight&#x27;, &#x27;enginesize&#x27;, &#x27;highwaympg&#x27;,\n",
              "       &#x27;horsepower&#x27;, &#x27;peakrpm&#x27;, &#x27;stroke&#x27;, &#x27;wheelbase&#x27;],\n",
              "      dtype=&#x27;object&#x27;)),\n",
              "                                                 (&#x27;cat&#x27;, OneHotEncoder(),\n",
              "                                                  [&#x27;carbody&#x27;, &#x27;doornumber&#x27;,\n",
              "                                                   &#x27;aspiration&#x27;])])),\n",
              "                (&#x27;model&#x27;, LinearRegression())])</pre></div></div></div><div class=\"sk-serial\"><div class=\"sk-item sk-dashed-wrapped\"><div class=\"sk-label-container\"><div class=\"sk-label sk-toggleable\"><input class=\"sk-toggleable__control sk-hidden--visually\" id=\"sk-estimator-id-2\" type=\"checkbox\" ><label for=\"sk-estimator-id-2\" class=\"sk-toggleable__label sk-toggleable__label-arrow\">preprocessor: ColumnTransformer</label><div class=\"sk-toggleable__content\"><pre>ColumnTransformer(transformers=[(&#x27;num&#x27;, StandardScaler(),\n",
              "                                 Index([&#x27;boreratio&#x27;, &#x27;carheight&#x27;, &#x27;carlength&#x27;, &#x27;carwidth&#x27;, &#x27;citympg&#x27;,\n",
              "       &#x27;compressionratio&#x27;, &#x27;curbweight&#x27;, &#x27;enginesize&#x27;, &#x27;highwaympg&#x27;,\n",
              "       &#x27;horsepower&#x27;, &#x27;peakrpm&#x27;, &#x27;stroke&#x27;, &#x27;wheelbase&#x27;],\n",
              "      dtype=&#x27;object&#x27;)),\n",
              "                                (&#x27;cat&#x27;, OneHotEncoder(),\n",
              "                                 [&#x27;carbody&#x27;, &#x27;doornumber&#x27;, &#x27;aspiration&#x27;])])</pre></div></div></div><div class=\"sk-parallel\"><div class=\"sk-parallel-item\"><div class=\"sk-item\"><div class=\"sk-label-container\"><div class=\"sk-label sk-toggleable\"><input class=\"sk-toggleable__control sk-hidden--visually\" id=\"sk-estimator-id-3\" type=\"checkbox\" ><label for=\"sk-estimator-id-3\" class=\"sk-toggleable__label sk-toggleable__label-arrow\">num</label><div class=\"sk-toggleable__content\"><pre>Index([&#x27;boreratio&#x27;, &#x27;carheight&#x27;, &#x27;carlength&#x27;, &#x27;carwidth&#x27;, &#x27;citympg&#x27;,\n",
              "       &#x27;compressionratio&#x27;, &#x27;curbweight&#x27;, &#x27;enginesize&#x27;, &#x27;highwaympg&#x27;,\n",
              "       &#x27;horsepower&#x27;, &#x27;peakrpm&#x27;, &#x27;stroke&#x27;, &#x27;wheelbase&#x27;],\n",
              "      dtype=&#x27;object&#x27;)</pre></div></div></div><div class=\"sk-serial\"><div class=\"sk-item\"><div class=\"sk-estimator sk-toggleable\"><input class=\"sk-toggleable__control sk-hidden--visually\" id=\"sk-estimator-id-4\" type=\"checkbox\" ><label for=\"sk-estimator-id-4\" class=\"sk-toggleable__label sk-toggleable__label-arrow\">StandardScaler</label><div class=\"sk-toggleable__content\"><pre>StandardScaler()</pre></div></div></div></div></div></div><div class=\"sk-parallel-item\"><div class=\"sk-item\"><div class=\"sk-label-container\"><div class=\"sk-label sk-toggleable\"><input class=\"sk-toggleable__control sk-hidden--visually\" id=\"sk-estimator-id-5\" type=\"checkbox\" ><label for=\"sk-estimator-id-5\" class=\"sk-toggleable__label sk-toggleable__label-arrow\">cat</label><div class=\"sk-toggleable__content\"><pre>[&#x27;carbody&#x27;, &#x27;doornumber&#x27;, &#x27;aspiration&#x27;]</pre></div></div></div><div class=\"sk-serial\"><div class=\"sk-item\"><div class=\"sk-estimator sk-toggleable\"><input class=\"sk-toggleable__control sk-hidden--visually\" id=\"sk-estimator-id-6\" type=\"checkbox\" ><label for=\"sk-estimator-id-6\" class=\"sk-toggleable__label sk-toggleable__label-arrow\">OneHotEncoder</label><div class=\"sk-toggleable__content\"><pre>OneHotEncoder()</pre></div></div></div></div></div></div></div></div><div class=\"sk-item\"><div class=\"sk-estimator sk-toggleable\"><input class=\"sk-toggleable__control sk-hidden--visually\" id=\"sk-estimator-id-7\" type=\"checkbox\" ><label for=\"sk-estimator-id-7\" class=\"sk-toggleable__label sk-toggleable__label-arrow\">LinearRegression</label><div class=\"sk-toggleable__content\"><pre>LinearRegression()</pre></div></div></div></div></div></div></div>"
            ]
          },
          "metadata": {},
          "execution_count": 12
        }
      ]
    },
    {
      "cell_type": "code",
      "source": [
        "# Make predictions\n",
        "y_pred = pipeline.predict(X_test)"
      ],
      "metadata": {
        "id": "gAK96Ca0gqtu"
      },
      "execution_count": null,
      "outputs": []
    },
    {
      "cell_type": "code",
      "source": [
        "# Evaluate the model\n",
        "mse = mean_squared_error(y_test, y_pred)\n",
        "print(f\"Mean Squared Error: {mse}\")"
      ],
      "metadata": {
        "colab": {
          "base_uri": "https://localhost:8080/"
        },
        "id": "LEBL2a3IguaB",
        "outputId": "5e52fed8-02f0-4722-a584-dce493035c4e"
      },
      "execution_count": null,
      "outputs": [
        {
          "output_type": "stream",
          "name": "stdout",
          "text": [
            "Mean Squared Error: 96092289.98268303\n"
          ]
        }
      ]
    },
    {
      "cell_type": "code",
      "source": [
        "# Plotting predictions vs actual values\n",
        "plt.scatter(y_test, y_pred)\n",
        "plt.xlabel('Actual Prices')\n",
        "plt.ylabel('Predicted Prices')\n",
        "plt.title('Actual Prices vs Predicted Prices')\n",
        "plt.show()"
      ],
      "metadata": {
        "colab": {
          "base_uri": "https://localhost:8080/",
          "height": 472
        },
        "id": "1pfjeHuJgxf1",
        "outputId": "a77cf87c-85d6-4f08-bd1b-ac26cc2c1072"
      },
      "execution_count": null,
      "outputs": [
        {
          "output_type": "display_data",
          "data": {
            "text/plain": [
              "<Figure size 640x480 with 1 Axes>"
            ],
            "image/png": "[encoded data removed]"
          },
          "metadata": {}
        }
      ]
    }
  ]
}